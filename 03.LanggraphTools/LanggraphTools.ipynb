{
 "cells": [
  {
   "cell_type": "code",
   "execution_count": 73,
   "id": "8616fbba",
   "metadata": {},
   "outputs": [],
   "source": [
    "# Import necessary libraries for querying Arxiv, Wikipedia, and Tavily\n",
    "from langchain_community.tools import ArxivQueryRun, WikipediaQueryRun\n",
    "from langchain_community.utilities import WikipediaAPIWrapper, ArxivAPIWrapper\n",
    "from langchain_community.tools.tavily_search import TavilySearchResults"
   ]
  },
  {
   "cell_type": "code",
   "execution_count": 74,
   "id": "b5e363a8",
   "metadata": {},
   "outputs": [],
   "source": [
    "# Initialize API wrappers for Arxiv and Wikipedia with specific configurations\n",
    "api_wrapper_arxiv = ArxivAPIWrapper(top_k_results=2, doc_content_chars_max=1000)\n",
    "arxiv = ArxivQueryRun(api_wrapper=api_wrapper_arxiv, description=\"Query Arxiv papers\")\n",
    "api_wrapper_wikipedia = WikipediaAPIWrapper(top_k_results=2, doc_content_chars_max=1000)\n",
    "wikipedia = WikipediaQueryRun(api_wrapper=api_wrapper_wikipedia, description=\"Query Wikipedia\")\n",
    "\n",
    "# Initialize Tavily search results tool\n",
    "tavily = TavilySearchResults()"
   ]
  },
  {
   "cell_type": "code",
   "execution_count": 75,
   "id": "f0186694",
   "metadata": {},
   "outputs": [],
   "source": [
    "# Load environment variables from a .env file\n",
    "from dotenv import load_dotenv\n",
    "load_dotenv()\n",
    "\n",
    "import os\n",
    "\n",
    "# Set API keys for GROQ and Tavily from environment variables\n",
    "os.environ[\"GROQ_API_KEY\"] = os.getenv(\"GROQ_API_KEY\")\n",
    "os.environ[\"TAVILY_API_KEY\"] = os.getenv(\"TAVILY_API_KEY\")"
   ]
  },
  {
   "cell_type": "code",
   "execution_count": 76,
   "id": "15b1f7da",
   "metadata": {},
   "outputs": [],
   "source": [
    "# Combine all tools into a single list for use with the LLM\n",
    "tools = [\n",
    "    arxiv,\n",
    "    wikipedia,\n",
    "    tavily\n",
    "]"
   ]
  },
  {
   "cell_type": "code",
   "execution_count": 77,
   "id": "67aea21d",
   "metadata": {},
   "outputs": [],
   "source": [
    "# Import and initialize the ChatGroq LLM\n",
    "from langchain_groq import ChatGroq\n",
    "\n",
    "# Configure the LLM with a specific model\n",
    "llm = ChatGroq(model=\"qwen-qwq-32b\")\n",
    "\n",
    "# Bind the tools to the LLM for enhanced functionality\n",
    "llm_with_tools = llm.bind_tools(tools)"
   ]
  },
  {
   "cell_type": "code",
   "execution_count": 78,
   "id": "b5023d9b",
   "metadata": {},
   "outputs": [
    {
     "data": {
      "text/plain": [
       "AIMessage(content='', additional_kwargs={'tool_calls': [{'id': 'call_yxsc', 'function': {'arguments': '{\"query\": \"India vs pak war today date\"}', 'name': 'tavily_search_results_json'}, 'type': 'function'}]}, response_metadata={'token_usage': {'completion_tokens': 131, 'prompt_tokens': 320, 'total_tokens': 451, 'completion_time': 0.319156076, 'prompt_time': 0.022764669, 'queue_time': 0.24802354099999996, 'total_time': 0.341920745}, 'model_name': 'qwen-qwq-32b', 'system_fingerprint': 'fp_512a3da6bb', 'finish_reason': 'tool_calls', 'logprobs': None}, id='run--066eb3e9-1358-4f13-9793-817a195595e3-0', tool_calls=[{'name': 'tavily_search_results_json', 'args': {'query': 'India vs pak war today date'}, 'id': 'call_yxsc', 'type': 'tool_call'}], usage_metadata={'input_tokens': 320, 'output_tokens': 131, 'total_tokens': 451})"
      ]
     },
     "execution_count": 78,
     "metadata": {},
     "output_type": "execute_result"
    }
   ],
   "source": [
    "# Example invocation of the LLM with tools to process a query\n",
    "llm_with_tools.invoke(\"India vs pak war today date\")"
   ]
  },
  {
   "cell_type": "code",
   "execution_count": 79,
   "id": "13b09c2e",
   "metadata": {},
   "outputs": [],
   "source": [
    "from typing_extensions import TypedDict\n",
    "from langchain_core.messages import AnyMessage\n",
    "from typing import Annotated\n",
    "from langgraph.graph.message import add_messages"
   ]
  },
  {
   "cell_type": "code",
   "execution_count": 80,
   "id": "def8e597",
   "metadata": {},
   "outputs": [],
   "source": [
    "class State(TypedDict):\n",
    "    messages: Annotated[list[AnyMessage], add_messages]"
   ]
  },
  {
   "cell_type": "code",
   "execution_count": 81,
   "id": "7c53c134",
   "metadata": {},
   "outputs": [],
   "source": [
    "from IPython.display import display, Image\n",
    "from langgraph.graph import  StateGraph, START, END\n",
    "from langgraph.prebuilt import ToolNode, tools_condition"
   ]
  },
  {
   "cell_type": "code",
   "execution_count": 82,
   "id": "cbc781e4",
   "metadata": {},
   "outputs": [],
   "source": [
    "def tool_calling_llm(state: State):\n",
    "    return {\"messages\": [llm_with_tools.invoke(state[\"messages\"])]}"
   ]
  },
  {
   "cell_type": "code",
   "execution_count": 91,
   "id": "6f1e4799",
   "metadata": {},
   "outputs": [
    {
     "data": {
      "text/plain": [
       "<langgraph.graph.state.StateGraph at 0x126c8e650>"
      ]
     },
     "execution_count": 91,
     "metadata": {},
     "output_type": "execute_result"
    }
   ],
   "source": [
    "# Create a StateGraph instance with the defined State type\n",
    "builder = StateGraph(State)\n",
    "\n",
    "# Add nodes to the graph\n",
    "builder.add_node(\"tool_calling_llm\", tool_calling_llm)\n",
    "builder.add_node(\"tools\", ToolNode(tools))\n",
    "\n",
    "# Define edges between nodes\n",
    "builder.add_edge(START, \"tool_calling_llm\")\n",
    "builder.add_conditional_edges(\"tool_calling_llm\", tools_condition)\n",
    "builder.add_conditional_edges(\"tools\", tool_calling_llm)\n",
    "builder.add_edge(\"tools\", END)"
   ]
  },
  {
   "cell_type": "code",
   "execution_count": null,
   "id": "66e4e2b1",
   "metadata": {},
   "outputs": [
    {
     "data": {
      "image/png": "[encoded data removed]",
      "text/plain": [
       "<IPython.core.display.Image object>"
      ]
     },
     "metadata": {},
     "output_type": "display_data"
    }
   ],
   "source": [
    "# Compile the graph and display its visualization\n",
    "graph_builder = builder.compile()\n",
    "display(Image(graph_builder.get_graph().draw_mermaid_png()))"
   ]
  },
  {
   "cell_type": "code",
   "execution_count": 93,
   "id": "d229172a",
   "metadata": {},
   "outputs": [
    {
     "name": "stdout",
     "output_type": "stream",
     "text": [
      "================================\u001b[1m Human Message \u001b[0m=================================\n",
      "\n",
      "IND vs PAK war today date and llm research paper\n",
      "==================================\u001b[1m Ai Message \u001b[0m==================================\n",
      "Tool Calls:\n",
      "  tavily_search_results_json (call_5r70)\n",
      " Call ID: call_5r70\n",
      "  Args:\n",
      "    query: IND vs PAK war today date\n",
      "  arxiv (call_asey)\n",
      " Call ID: call_asey\n",
      "  Args:\n",
      "    query: large language models research papers\n",
      "=================================\u001b[1m Tool Message \u001b[0m=================================\n",
      "Name: tavily_search_results_json\n",
      "\n",
      "[{\"title\": \"Indo-Pakistani wars and conflicts - Wikipedia\", \"url\": \"https://en.wikipedia.org/wiki/Indo-Pakistani_wars_and_conflicts\", \"content\": \"The 2025 India–Pakistan conflict was a brief but intense armed confrontation between India and Pakistan on 7 May 2025, triggered by India's missile strikes on Pakistan under the codename Operation Sindoor.[b] The operation was launched in retaliation for the 2025 Pahalgam attack, in which 28 civilians, mostly tourists, were killed by militants in Indian-administered Kashmir. India claimed the strikes targeted militant groups Jaish-e-Mohammed and Lashkar-e-Taiba, while Pakistan reported civilian [...] skirmishes2013 India–Pakistan border skirmishes2014–2015 India–Pakistan border skirmishes2016 Indian Line of Control strike2016–2018 India–Pakistan border skirmishes2019 India–Pakistan border skirmishes2020–2021 India–Pakistan border skirmishes2023 India–Pakistan border skirmishes2025 India–Pakistan standoff2025 India–Pakistan conflict | Date | 22 October 1947 – present(77 years, 6 months, 2 weeks and 5 days) | Location | Line of Control,India–Pakistan border | Status | OngoingDirect [...] Date22 October 1947 – present(77 years, 6 months, 2 weeks and 5 days)LocationLine of Control,India–Pakistan borderStatusOngoingDirect engagements:Wars:1st Indo-Pakistani War(1947-1948)2nd Indo-Pakistani War(1965)Bangladesh Liberation War(1971)3rd Indo-Pakistani War(1971)Siachen conflict(1984–2003)Kargil War(1999)Cross-border skirmishes and military standoffs:1958 East Pakistan-India border clashes[1]2001–2002 India–Pakistan standoff2008 India–Pakistan standoff2011 India–Pakistan border\", \"score\": 0.8033131}, {\"title\": \"2025 India–Pakistan standoff - Wikipedia\", \"url\": \"https://en.wikipedia.org/wiki/2025_India%E2%80%93Pakistan_standoff\", \"content\": \"Date23 April 2025 – present(2 weeks and 3 days)LocationInternational BoundaryandLine of ControlStatusOngoingCancellation ofIndus Water TreatyandShimla Agreement[1][2]Visa cancellation and travel ban for Pakistanis in India[1]Expulsion of Pakistani diplomats from India and withdrawal of Indian counterparts from Pakistan[1]Suspension of all trade including through third countries with India by Pakistan[3]Closure of Pakistani airspace for Indian aircraft[4]2025 India–Pakistan [...] conflictShort-livedceasefireviolated | Date | 23 April 2025 – present(2 weeks and 3 days) | Location | International BoundaryandLine of Control | Status | OngoingCancellation ofIndus Water TreatyandShimla Agreement[1][2]Visa cancellation and travel ban for Pakistanis in India[1]Expulsion of Pakistani diplomats from India and withdrawal of Indian counterparts from Pakistan[1]Suspension of all trade including through third countries with India by Pakistan[3]Closure of Pakistani airspace for [...] Date | 23 April 2025 – present(2 weeks and 3 days)\\nLocation | International BoundaryandLine of Control\", \"score\": 0.7900289}, {\"title\": \"India Vs Pakistan | 8 AM News Headlines | 11 May 2025 | SAMAA TV\", \"url\": \"https://www.youtube.com/watch?v=ngNbBH4jjlA\", \"content\": \"This India Pakistan war update is your go-to source for reliable, fast-paced journalism. Our 3 PM news headlines give you verified information without the noise. For more in-depth coverage on the India-Pakistan conflict\\n\\nDon’t miss future updates. Subscribe for more unbiased, real-time reporting. Comment below with your thoughts on the ongoing situation.\\n\\n\\\\#IndiaPakistanWar #3PMNews #SAMAAUpdates #BreakingNews #PakistanNews [...] * India-Pakistan border sees renewed shelling; casualties feared.\\n* UN urges restraint amid escalating military conflict.\\n* Pakistani officials brief media on national security stance.\\n* Indian defense ministry issues fresh statement.\\n* Civilians near LOC brace for emergency evacuations. [...] Pakistan's victory | India Vs Pakistan | 8 AM News Headlines | 11 May 2025 | SAMAA TV\\n\\nIn this breaking news bulletin, we cover military movements, diplomatic responses, and global reactions. Get the full picture in just a few minutes.\", \"score\": 0.735737}, {\"title\": \"Pak PM Shehbaz Sharif declares victory after ceasefire talks\", \"url\": \"https://www.cnbctv18.com/india/india-pakistan-war-live-updates-agreed-ceasfire-violation-drones-attack-indian-armed-forces-loc-pok-jammu-kashmir-liveblog-19602765.htm\", \"content\": \"— ANI (@ANI) May 11, 2025\\n\\n\\n\\nIndia Pakistan War Live Updates: Media briefing by Ministry of Defence is likely at 11 am: Sources\\n\\nIndia Pakistan War Live Updates: No ceasefire violation reported in Kashmir valley overnight\\n\\nThere was a semblance of normalcy in Kashmir valley as residents witnessed the first night in six days without the sound of aircraft, missiles and drones flying overhead. [...] #WATCH | J&K: Mortal remains of Rifleman Sunil Kumar brought to his residence in Trewa village of Jammu. He lost his life in the line of duty, during the shelling by Pakistan, in RS Pura sector. pic.twitter.com/HEqzE81Ux0\\n\\n— ANI (@ANI) May 11, 2025\\n\\n\\n\\nIndia-Pakistan War LIVE Updates: Pak Defence Minister says major issues with India can be discussed in any future dialogue [...] India-Pakistan War LIVE Updates: Tri-services chiefs are presently meeting with PM Modi at his residence\\n\\n#IndiaPakistanTensions | Tri-services chiefs are presently meeting with the #PrimeMinister at his residence pic.twitter.com/OcN1OYqqYS\\n\\n— CNBC-TV18 (@CNBCTV18Live) May 11, 2025\\n\\n\\n\\nIndia-Pakistan War LIVE Updates: BJP hails PM Modi, says India isolated Pakistan diplomatically\", \"score\": 0.71995544}, {\"title\": \"Timeline Of India-Pak 100-Hour Missile, Drone War Over Pahalgam ...\", \"url\": \"https://www.ndtv.com/india-news/india-pakistan-war-india-pakistan-news-india-pakistan-ceasefire-pahalgam-war-timeline-india-pak-100-hour-missile-drone-war-8381457\", \"content\": \"This round of India-Pak hostilities began nearly 20 days ago - with the terror attack in Jammu and Kashmir's Pahalgam on April 22, in which 26 people, mostly civilians, were killed.\\n\\nIndia and Pakistan were at war for a little less than 100 hours before a ceasefire, effective 5pm May 10, brought them back from the edge of a tit-for-tat military escalation that could have led to nuclear war, a prospect the world cannot afford.\", \"score\": 0.65146625}]\n",
      "=================================\u001b[1m Tool Message \u001b[0m=================================\n",
      "Name: arxiv\n",
      "\n",
      "Published: 2023-06-12\n",
      "Title: Lost in Translation: Large Language Models in Non-English Content Analysis\n",
      "Authors: Gabriel Nicholas, Aliya Bhatia\n",
      "Summary: In recent years, large language models (e.g., Open AI's GPT-4, Meta's LLaMa,\n",
      "Google's PaLM) have become the dominant approach for building AI systems to\n",
      "analyze and generate language online. However, the automated systems that\n",
      "increasingly mediate our interactions online -- such as chatbots, content\n",
      "moderation systems, and search engines -- are primarily designed for and work\n",
      "far more effectively in English than in the world's other 7,000 languages.\n",
      "Recently, researchers and technology companies have attempted to extend the\n",
      "capabilities of large language models into languages other than English by\n",
      "building what are called multilingual language models.\n",
      "  In this paper, we explain how these multilingual language models work and\n",
      "explore their capabilities and limits. Part I provides a simple technical\n",
      "explanation of how large language mod\n"
     ]
    }
   ],
   "source": [
    "# Invoke the graph with a specific message and display the results\n",
    "message = graph_builder.invoke({\"messages\": \"IND vs PAK war today date and llm research paper\"})\n",
    "for m in message[\"messages\"]:\n",
    "   m.pretty_print()"
   ]
  },
  {
   "cell_type": "code",
   "execution_count": 94,
   "id": "5292d0d9",
   "metadata": {},
   "outputs": [
    {
     "name": "stdout",
     "output_type": "stream",
     "text": [
      "================================\u001b[1m Human Message \u001b[0m=================================\n",
      "\n",
      "Hi my name is srikar\n",
      "==================================\u001b[1m Ai Message \u001b[0m==================================\n",
      "\n",
      "Hello Srikar! Nice to meet you. How can I assist you today? Feel free to ask me any questions or let me know if you need help with anything specific.\n"
     ]
    }
   ],
   "source": [
    "# Invoke the graph with another message and display the results\n",
    "message = graph_builder.invoke({\"messages\": \"Hi my name is srikar\"})\n",
    "for m in message[\"messages\"]:\n",
    "   m.pretty_print()"
   ]
  },
  {
   "cell_type": "code",
   "execution_count": 1,
   "id": "3897c82c",
   "metadata": {},
   "outputs": [
    {
     "ename": "ModuleNotFoundError",
     "evalue": "No module named 'langgraph.graph.visualization'",
     "output_type": "error",
     "traceback": [
      "\u001b[31m---------------------------------------------------------------------------\u001b[39m",
      "\u001b[31mModuleNotFoundError\u001b[39m                       Traceback (most recent call last)",
      "\u001b[36mCell\u001b[39m\u001b[36m \u001b[39m\u001b[32mIn[1]\u001b[39m\u001b[32m, line 1\u001b[39m\n\u001b[32m----> \u001b[39m\u001b[32m1\u001b[39m \u001b[38;5;28;01mfrom\u001b[39;00m\u001b[38;5;250m \u001b[39m\u001b[34;01mlanggraph\u001b[39;00m\u001b[34;01m.\u001b[39;00m\u001b[34;01mgraph\u001b[39;00m\u001b[34;01m.\u001b[39;00m\u001b[34;01mvisualization\u001b[39;00m\u001b[38;5;250m \u001b[39m\u001b[38;5;28;01mimport\u001b[39;00m MermaidDrawMethod\n",
      "\u001b[31mModuleNotFoundError\u001b[39m: No module named 'langgraph.graph.visualization'"
     ]
    }
   ],
   "source": [
    "from langgraph.graph.visualization import MermaidDrawMethod\n"
   ]
  },
  {
   "cell_type": "code",
   "execution_count": null,
   "id": "d082c33f",
   "metadata": {},
   "outputs": [],
   "source": []
  }
 ],
 "metadata": {
  "kernelspec": {
   "display_name": "venv",
   "language": "python",
   "name": "python3"
  },
  "language_info": {
   "codemirror_mode": {
    "name": "ipython",
    "version": 3
   },
   "file_extension": ".py",
   "mimetype": "text/x-python",
   "name": "python",
   "nbconvert_exporter": "python",
   "pygments_lexer": "ipython3",
   "version": "3.13.1"
  }
 },
 "nbformat": 4,
 "nbformat_minor": 5
}
