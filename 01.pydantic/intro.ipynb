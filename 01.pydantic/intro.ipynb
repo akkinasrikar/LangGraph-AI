{
 "cells": [
  {
   "cell_type": "code",
   "execution_count": 3,
   "id": "6c86f08d",
   "metadata": {},
   "outputs": [],
   "source": [
    "from pydantic import BaseModel"
   ]
  },
  {
   "cell_type": "code",
   "execution_count": 11,
   "id": "ec692c03",
   "metadata": {},
   "outputs": [
    {
     "data": {
      "text/plain": [
       "User(name='Alice', age=30, city='New York')"
      ]
     },
     "execution_count": 11,
     "metadata": {},
     "output_type": "execute_result"
    }
   ],
   "source": [
    "class User(BaseModel):\n",
    "    name: str\n",
    "    age: int\n",
    "    city: str \n",
    "\n",
    "person = User(name=\"Alice\", age=\"30\", city=\"New York\")\n",
    "person"
   ]
  },
  {
   "cell_type": "code",
   "execution_count": 15,
   "id": "d3665174",
   "metadata": {},
   "outputs": [
    {
     "data": {
      "text/plain": [
       "UserWithOptional(name='Bob', age=25, city=None, address=Address(street='123 Main St', city='Los Angeles', state='CA'))"
      ]
     },
     "execution_count": 15,
     "metadata": {},
     "output_type": "execute_result"
    }
   ],
   "source": [
    "from typing import Optional\n",
    "\n",
    "class Address(BaseModel):\n",
    "    street: str\n",
    "    city: str\n",
    "    state: str\n",
    "\n",
    "class UserWithOptional(BaseModel):\n",
    "    name: str\n",
    "    age: Optional[int] = None\n",
    "    city: Optional[str] = None\n",
    "    address: Address\n",
    "\n",
    "\n",
    "address = Address(street=\"123 Main St\", city=\"Los Angeles\", state=\"CA\")\n",
    "person_with_optional = UserWithOptional(name=\"Bob\", age=25, city=None, address=address)\n",
    "person_with_optional"
   ]
  },
  {
   "cell_type": "code",
   "execution_count": 19,
   "id": "c0880e8a",
   "metadata": {},
   "outputs": [
    {
     "data": {
      "text/plain": [
       "Item(name='Laptop', price=999.99, quantity=5)"
      ]
     },
     "execution_count": 19,
     "metadata": {},
     "output_type": "execute_result"
    }
   ],
   "source": [
    "from pydantic import BaseModel, Field\n",
    "\n",
    "class Item(BaseModel):\n",
    "    name: str\n",
    "    price: float = Field(..., gt=0, description=\"The price of the item must be greater than 0\")\n",
    "    quantity: int = Field(..., ge=0, description=\"The quantity of the item must be non-negative\")\n",
    "\n",
    "item = Item(name=\"Laptop\", price=999.99, quantity=5)\n",
    "item"
   ]
  },
  {
   "cell_type": "code",
   "execution_count": null,
   "id": "f192dbfe",
   "metadata": {},
   "outputs": [],
   "source": []
  }
 ],
 "metadata": {
  "kernelspec": {
   "display_name": "venv",
   "language": "python",
   "name": "python3"
  },
  "language_info": {
   "codemirror_mode": {
    "name": "ipython",
    "version": 3
   },
   "file_extension": ".py",
   "mimetype": "text/x-python",
   "name": "python",
   "nbconvert_exporter": "python",
   "pygments_lexer": "ipython3",
   "version": "3.13.1"
  }
 },
 "nbformat": 4,
 "nbformat_minor": 5
}
